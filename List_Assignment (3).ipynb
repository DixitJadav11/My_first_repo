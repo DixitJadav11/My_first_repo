{
 "cells": [
  {
   "cell_type": "code",
   "execution_count": null,
   "id": "8d2c3924",
   "metadata": {},
   "outputs": [],
   "source": [
    "#Write a Python program to find the sum of all elements in a list using loop.\n",
    "#Input:- [10,20,30,40]\n",
    "#Output:- 100\n",
    "\n",
    "\n",
    "\n",
    "\n",
    "#Write a Python program to find the multiplication of all elements in a list using loop.\n",
    "#Input:- [10,20,30,40]\n",
    "#Output:- 240000\n",
    "\n",
    "\n",
    "\n",
    "\n",
    "#Write a Python program to find the largest number from a list using loop.\n",
    "#Input:- [10,100,2321, 1,200,2]\n",
    "#Output:- 2321\n",
    "\n",
    "\n",
    "\n",
    "\n",
    "#Write a Python program to find the smallest number from a list using loop.\n",
    "#Input:- [10,100,2321, 1,200,2]\n",
    "#Output:- 1\n",
    "\n",
    "\n",
    "\n",
    "\n",
    "#Write a Python program to count the number of strings having length more than 2 and are palindrome in a list using loop.\n",
    "#Input:- ['ab', 'abc', 'aba', 'xyz', '1991']\n",
    "#Output:- 2\n",
    "\n",
    "#Write a Python program to sort a list in ascending order using loop.\n",
    "#Input:- [100,10,1,298,65,483,49876,2,80,9,9213]\n",
    "#Output:- [1,2,9,10,65,80,100,298,483,9213,49876]\n",
    "\n",
    "\n",
    "\n",
    "\n",
    "#Write a Python program to get a sorted list in increasing order of last element in each tuple in a given list using loop.\n",
    "#Input:- [(5,4),(9,1),(2,3),(5,9),(7,6),(5,5)]\n",
    "#output:- [(9,1),(2,3),(5,4),(5,5),(7,6),(5,9)]\n",
    "\n",
    "\n",
    "\n",
    "\n",
    "#Write a Python program to remove fuplicate element from a list using loop.\n",
    "#Input:- [10,1,11,1,29,876,768,10,11,1,92,29,876]\n",
    "#Output:- [10,1,11,29,876,768,92]\n",
    "\n",
    "\n",
    "\n",
    "\n",
    "#Write a Python program to check a list is empty or not?\n",
    "#Input:- []\n",
    "#Output:- List is empty\n",
    "#Input:- [10,20,30]\n",
    "#Output:- List is not empty\n",
    "\n",
    "\n",
    "\n",
    "\n",
    "#Write a Python program to copy a list using loop.\n",
    "#inp_lst = [10,10.20,10+20j, 'Python', [10,20], (10,20)]\n",
    "#out_lst = [10,10.20,10+20j, 'Python', [10,20], (10,20)]\n",
    "\n",
    "\n",
    "\n",
    "\n",
    "#Write a Python program to find the list of words that are longer than or equal to 4 from a given string.\n",
    "#Input:- 'How much wood would a woodchuck chuck if a woodchuck could chuck wood'\n",
    "#Output:- ['much', 'wood', 'would', 'woodchuck', 'chuck', 'could']\n",
    "#Note:- Duplicate should be avoided.\n",
    "\n",
    "\n",
    "\n",
    "\n",
    "#Write a Python program which takes two list as input and returns True if they have at least 3 common elements.\n",
    "#inp_lst1 = [10,20,'Python', 10.20, 10+20j, [10,20,30], (10,20,30)]\n",
    "#inp_lst2 = [(10,20,30),1,20+3j,100.2, 10+20j, [10,20,30],'Python']\n",
    "#Output:- True\n",
    "\n",
    "\n",
    "\n",
    "\n",
    "#Write a Python program to create a 4X4 2D matrix with below elements using loop and list comprehension both.\n",
    "#Output:- [[0,0,0,0],[0,1,2,3],[0,2,4,6],[0,3,6,9]]\n",
    "\n",
    "\n",
    "\n",
    "\n",
    "#Write a Python program to create a 3X4X6 3D matrix wiith below elements using loop\n",
    "#Output:- \n",
    "# [\n",
    "#     [[0,0,0,0,0,0],[0,0,0,0,0,0],[0,0,0,0,0,0],[0,0,0,0,0,0]],\n",
    "#     [[0,0,0,0,0,0],[1,1,1,1,1,1],[2,2,2,2,2,2],[3,3,3,3,3,3]],\n",
    "#     [[0,0,0,0,0,0],[2,2,2,2,2,2],[4,4,4,4,4,4],[6,6,6,6,6,6]]\n",
    "# ]\n",
    "\n",
    "\n",
    "\n",
    "\n",
    "#Write a Python program which takes a list of numbers as input and prints a new list after removing even numbers from it.\n",
    "#Input:- [10,21,22,98,87,45,33,1,2,100]\n",
    "#Output:- [21,87,45,33,1]\n",
    "\n",
    "\n",
    "\n",
    "\n",
    "#Write a Python program which takes a list from the user and prints it after reshuffling the elements of the list.\n",
    "#Input:- [10,21,22,98,87,45,33,1,2,100]\n",
    "#Output:- [1,87,21,10,33,2,100,45,98,22] (It may be any randon list but with same elements)\n",
    "\n",
    "\n"
   ]
  },
  {
   "cell_type": "code",
   "execution_count": 1,
   "id": "74bdcc42",
   "metadata": {},
   "outputs": [
    {
     "name": "stdout",
     "output_type": "stream",
     "text": [
      "100\n"
     ]
    }
   ],
   "source": [
    "#Write a Python program to find the sum of all elements in a list using loop.\n",
    "#Input:- [10,20,30,40]\n",
    "#Output:- 100\n",
    "\n",
    "lst=[10,20,30,40]\n",
    "total=0\n",
    "for i in lst:\n",
    "    total+=i\n",
    "print(total)"
   ]
  },
  {
   "cell_type": "code",
   "execution_count": 8,
   "id": "ebce2f73",
   "metadata": {},
   "outputs": [
    {
     "name": "stdout",
     "output_type": "stream",
     "text": [
      "240000\n"
     ]
    }
   ],
   "source": [
    "\n",
    "#Write a Python program to find the multiplication of all elements in a list using loop.\n",
    "#Input:- [10,20,30,40]\n",
    "#Output:- 240000\n",
    "\n",
    "lst=[10,20,30,40]\n",
    "multi=1\n",
    "for i in lst:\n",
    "    multi*=i\n",
    "print(multi)"
   ]
  },
  {
   "cell_type": "code",
   "execution_count": null,
   "id": "77690791",
   "metadata": {},
   "outputs": [],
   "source": [
    "#now using def function"
   ]
  },
  {
   "cell_type": "code",
   "execution_count": 14,
   "id": "1de4d201",
   "metadata": {},
   "outputs": [],
   "source": [
    "def multiply_list_elements(num):\n",
    "    result=1\n",
    "    for i in num:\n",
    "        result*=i\n",
    "    return result\n",
    "    \n",
    "        "
   ]
  },
  {
   "cell_type": "code",
   "execution_count": 15,
   "id": "ef261261",
   "metadata": {},
   "outputs": [
    {
     "data": {
      "text/plain": [
       "240000"
      ]
     },
     "execution_count": 15,
     "metadata": {},
     "output_type": "execute_result"
    }
   ],
   "source": [
    "multiply_list_elements([10,20,30,40])"
   ]
  },
  {
   "cell_type": "code",
   "execution_count": 31,
   "id": "cf25d3f4",
   "metadata": {},
   "outputs": [
    {
     "name": "stdout",
     "output_type": "stream",
     "text": [
      "2321\n"
     ]
    }
   ],
   "source": [
    "\n",
    "#Write a Python program to find the largest number from a list using loop.\n",
    "#Input:- [10,100,2321, 1,200,2]\n",
    "#Output:- 2321\n",
    "\n",
    "lst= [10,100,2321, 1,200,2]\n",
    "largest_num=lst[0]\n",
    "for i in lst:\n",
    "    if i>largest_num:\n",
    "        largest_num=i\n",
    "print(largest_num)\n",
    "    \n",
    "    "
   ]
  },
  {
   "cell_type": "code",
   "execution_count": null,
   "id": "6f61e208",
   "metadata": {},
   "outputs": [],
   "source": [
    "#now same by using def function"
   ]
  },
  {
   "cell_type": "code",
   "execution_count": 40,
   "id": "30af60f6",
   "metadata": {},
   "outputs": [
    {
     "name": "stdout",
     "output_type": "stream",
     "text": [
      "2321\n"
     ]
    }
   ],
   "source": [
    "def find_largest_num(num):\n",
    "    largest_num=num[0]\n",
    "    for i in num:\n",
    "        if i>largest_num:\n",
    "            largest_num=i\n",
    "print(largest_num)"
   ]
  },
  {
   "cell_type": "code",
   "execution_count": 22,
   "id": "e9dc3a46",
   "metadata": {},
   "outputs": [
    {
     "data": {
      "text/plain": [
       "2321"
      ]
     },
     "execution_count": 22,
     "metadata": {},
     "output_type": "execute_result"
    }
   ],
   "source": [
    "largest_num"
   ]
  },
  {
   "cell_type": "code",
   "execution_count": 45,
   "id": "8a3764bb",
   "metadata": {},
   "outputs": [
    {
     "name": "stdout",
     "output_type": "stream",
     "text": [
      "the smallest number is: 1\n"
     ]
    }
   ],
   "source": [
    "#Write a Python program to find the smallest number from a list using loop.\n",
    "#Input:- [10,100,2321, 1,200,2]\n",
    "#Output:- 1\n",
    "\n",
    "lst= [10,100,2321, 1,200,2]\n",
    "smallest_num=lst[0]\n",
    "for i in lst:\n",
    "    if i<smallest_num:\n",
    "        smallest_num=i\n",
    "print(\"the smallest number is:\", smallest_num)"
   ]
  },
  {
   "cell_type": "code",
   "execution_count": 54,
   "id": "2257d195",
   "metadata": {},
   "outputs": [
    {
     "name": "stdout",
     "output_type": "stream",
     "text": [
      "2\n"
     ]
    }
   ],
   "source": [
    "#Write a Python program to count the number of strings having length more than 2 and are palindrome in a list using loop.\n",
    "#Input:- ['ab', 'abc', 'aba', 'xyz', '1991']\n",
    "#Output:- 2\n",
    "lst= ['ab', 'abc', 'aba', 'xyz', '1991']\n",
    "count=0\n",
    "for i in lst:\n",
    "    if i==i[::-1] and len(i)>2:\n",
    "        count+=1\n",
    "print(count)\n",
    "\n",
    "\n"
   ]
  },
  {
   "cell_type": "code",
   "execution_count": 52,
   "id": "beaff76e",
   "metadata": {},
   "outputs": [
    {
     "name": "stdout",
     "output_type": "stream",
     "text": [
      "aba\n",
      "1991\n"
     ]
    }
   ],
   "source": [
    "lst= ['ab', 'abc', 'aba', 'xyz', '1991']\n",
    "for i in lst:\n",
    "    if i==i[::-1] and len(i)>2:\n",
    "        print(i)"
   ]
  },
  {
   "cell_type": "code",
   "execution_count": 60,
   "id": "e9c1a05b",
   "metadata": {},
   "outputs": [
    {
     "name": "stdout",
     "output_type": "stream",
     "text": [
      "[1, 2, 9, 10, 65, 80, 100, 298, 483, 9213, 49876]\n"
     ]
    }
   ],
   "source": [
    "#Write a Python program to sort a list in ascending order using loop.\n",
    "#Input:- [100,10,1,298,65,483,49876,2,80,9,9213]\n",
    "#Output:- [1,2,9,10,65,80,100,298,483,9213,49876]\n",
    "\n",
    "lst= [100,10,1,298,65,483,49876,2,80,9,9213]\n",
    "for i in range(len(lst)):\n",
    "    for j in range(i+1,len(lst)):\n",
    "        if lst[i]>lst[j]:\n",
    "            lst[i],lst[j]=lst[j],lst[i]\n",
    "print(lst)\n"
   ]
  },
  {
   "cell_type": "code",
   "execution_count": null,
   "id": "e6a76d06",
   "metadata": {},
   "outputs": [],
   "source": [
    "#explaining code s"
   ]
  },
  {
   "cell_type": "code",
   "execution_count": 61,
   "id": "d9a4f473",
   "metadata": {},
   "outputs": [
    {
     "name": "stdout",
     "output_type": "stream",
     "text": [
      "The list in ascending order is: [1, 2, 9, 10, 65, 80, 100, 298, 483, 9213, 49876]\n"
     ]
    }
   ],
   "source": [
    "lst = [100, 10, 1, 298, 65, 483, 49876, 2, 80, 9, 9213]\n",
    "\n",
    "# Loop through each element in the list\n",
    "for i in range(len(lst)):\n",
    "    # Loop through the list from the next element to the end\n",
    "    for j in range(i + 1, len(lst)):\n",
    "        # If the current element is greater than the next element\n",
    "        if lst[i] > lst[j]:\n",
    "            # Swap the elements\n",
    "            lst[i], lst[j] = lst[j], lst[i]\n",
    "\n",
    "# Print the sorted list\n",
    "print(\"The list in ascending order is:\", lst)\n"
   ]
  },
  {
   "cell_type": "code",
   "execution_count": null,
   "id": "34f96c43",
   "metadata": {},
   "outputs": [],
   "source": [
    "#using def function"
   ]
  },
  {
   "cell_type": "code",
   "execution_count": 19,
   "id": "2d0fb922",
   "metadata": {},
   "outputs": [],
   "source": [
    "def sorted_list(lst):\n",
    "    for i in range(len(lst)):\n",
    "        for j in range(i+1,len(lst)):\n",
    "            if lst[i]>lst[j]:\n",
    "                lst[i],lst[j]=lst[j],lst[i]\n",
    "    print(lst)"
   ]
  },
  {
   "cell_type": "code",
   "execution_count": 20,
   "id": "261a2cff",
   "metadata": {},
   "outputs": [
    {
     "name": "stdout",
     "output_type": "stream",
     "text": [
      "[1, 2, 9, 10, 65, 80, 100, 298, 483, 9213, 49876]\n"
     ]
    }
   ],
   "source": [
    "sorted_list([100, 10, 1, 298, 65, 483, 49876, 2, 80, 9, 9213])"
   ]
  },
  {
   "cell_type": "code",
   "execution_count": 66,
   "id": "0550392d",
   "metadata": {},
   "outputs": [
    {
     "name": "stdout",
     "output_type": "stream",
     "text": [
      "[49876, 9213, 483, 298, 100, 80, 65, 10, 9, 2, 1]\n"
     ]
    }
   ],
   "source": [
    "#Write a Python program to sort a list in descending order using loop.\n",
    "#Input:- [100,10,1,298,65,483,49876,2,80,9,9213]\n",
    "#ouput:-[49876, 9213, 483, 298, 100, 80, 65, 10, 9, 2, 1]\n",
    "lst=  [100,10,1,298,65,483,49876,2,80,9,9213]\n",
    "for i in range(len(lst)):\n",
    "    for j in range(i+1,len(lst)):\n",
    "        if lst[i]<lst[j]:\n",
    "            lst[i],lst[j]=lst[j],lst[i]\n",
    "print(lst)"
   ]
  },
  {
   "cell_type": "code",
   "execution_count": 4,
   "id": "4cf9d4cb",
   "metadata": {},
   "outputs": [
    {
     "name": "stdout",
     "output_type": "stream",
     "text": [
      "[(9, 1), (2, 3), (5, 4), (5, 5), (7, 6), (5, 9)]\n"
     ]
    }
   ],
   "source": [
    "#Write a Python program to get a sorted list in increasing order of last element in each tuple in a given list using loop.\n",
    "#Input:- [(5,4),(9,1),(2,3),(5,9),(7,6),(5,5)]\n",
    "#output:- [(9,1),(2,3),(5,4),(5,5),(7,6),(5,9)]\n",
    "\n",
    "lst=[(5,4),(9,1),(2,3),(5,9),(7,6),(5,5)]\n",
    "for i in range(len(lst)):\n",
    "    for j in range(0,len(lst)-i-1):\n",
    "        if lst[j][1]>lst[j+1][1]:\n",
    "                lst[j],lst[j+1]=lst[j+1],lst[j]\n",
    "print(lst)\n",
    "        "
   ]
  },
  {
   "cell_type": "code",
   "execution_count": null,
   "id": "7acbbdfd",
   "metadata": {},
   "outputs": [],
   "source": [
    "# List of tuples\n",
    "tuples = [(5,4),(9,1),(2,3),(5,9),(7,6),(5,5)]\n",
    "\n",
    "# Length of the list\n",
    "n = len(tuples)\n",
    "\n",
    "# Loop through the list\n",
    "for i in range(n):\n",
    "    for j in range(0, n-i-1):\n",
    "        # If the last element of the current tuple is greater than the last element of the next tuple\n",
    "        if tuples[j][1] > tuples[j+1][1]:\n",
    "            # Swap the tuples\n",
    "            tuples[j], tuples[j+1] = tuples[j+1], tuples[j]\n",
    "\n",
    "# Print the sorted list\n",
    "print(tuples)\n"
   ]
  },
  {
   "cell_type": "code",
   "execution_count": null,
   "id": "49e783a2",
   "metadata": {},
   "outputs": [],
   "source": [
    "# same using def function"
   ]
  },
  {
   "cell_type": "code",
   "execution_count": 27,
   "id": "e3ce1c5b",
   "metadata": {},
   "outputs": [],
   "source": [
    "def sorted_tuple(tup):\n",
    "    for i in range(len(tup)):\n",
    "        for j in range(0,len(tup)-i-1):\n",
    "            if tup[j][1]>tup[j+1][1]:\n",
    "                tup[j],tup[j+1]=tup[j+1],tup[j]\n",
    "    return tup\n",
    "            "
   ]
  },
  {
   "cell_type": "code",
   "execution_count": 28,
   "id": "a44d0fd5",
   "metadata": {
    "scrolled": true
   },
   "outputs": [
    {
     "data": {
      "text/plain": [
       "[(9, 1), (2, 3), (5, 4), (5, 5), (7, 6), (5, 9)]"
      ]
     },
     "execution_count": 28,
     "metadata": {},
     "output_type": "execute_result"
    }
   ],
   "source": [
    "sorted_tuple([(5,4),(9,1),(2,3),(5,9),(7,6),(5,5)])"
   ]
  },
  {
   "cell_type": "code",
   "execution_count": 17,
   "id": "33f3908d",
   "metadata": {},
   "outputs": [
    {
     "name": "stdout",
     "output_type": "stream",
     "text": [
      "[(5, 5, 2), (5, 4, 5), (7, 6, 7), (2, 3, 8), (9, 1, 9), (5, 9, 9)]\n"
     ]
    }
   ],
   "source": [
    "#Write a Python program to get a sorted list in increasing order of last element in each tuple in a given list using loop.\n",
    "#Input:- [(5,4,5),(9,1,9),(2,3,8),(5,9,9),(7,6,7),(5,5,2)]\n",
    "#output:- [(5, 5, 2), (5, 4, 5), (7, 6, 7), (2, 3, 8), (9, 1, 9), (5, 9, 9)]\n",
    "\n",
    "lst=[(5,4,5),(9,1,9),(2,3,8),(5,9,9),(7,6,7),(5,5,2)]\n",
    "for i in range(len(lst)):\n",
    "    for j in range(0,len(lst)-i-1):\n",
    "        if lst[j][2]>lst[j+1][2]:\n",
    "                lst[j],lst[j+1]=lst[j+1],lst[j]\n",
    "print(lst)\n",
    "        "
   ]
  },
  {
   "cell_type": "code",
   "execution_count": 31,
   "id": "cc70a58e",
   "metadata": {},
   "outputs": [
    {
     "name": "stdout",
     "output_type": "stream",
     "text": [
      "[10, 1, 11, 29, 876, 768, 92]\n"
     ]
    }
   ],
   "source": [
    "\n",
    "#Write a Python program to remove duplicate element from a list using loop.\n",
    "#Input:- [10,1,11,1,29,876,768,10,11,1,92,29,876]\n",
    "#Output:- [10,1,11,29,876,768,92]\n",
    "\n",
    "lst= [10,1,11,1,29,876,768,10,11,1,92,29,876]\n",
    "new_lst=[]\n",
    "for i in lst:\n",
    "        if i not in new_lst:\n",
    "            new_lst.append(i)\n",
    "print(new_lst)\n",
    "        "
   ]
  },
  {
   "cell_type": "code",
   "execution_count": 36,
   "id": "90d1fdf7",
   "metadata": {},
   "outputs": [],
   "source": [
    "#using def \n",
    "def remove_duplicate(lst):\n",
    "    new_lst=[]\n",
    "    for i in lst:\n",
    "        if i not in new_lst:\n",
    "            new_lst.append(i)\n",
    "    return new_lst"
   ]
  },
  {
   "cell_type": "code",
   "execution_count": 37,
   "id": "b8f46284",
   "metadata": {},
   "outputs": [
    {
     "data": {
      "text/plain": [
       "[10, 1, 11, 29, 876, 768, 92]"
      ]
     },
     "execution_count": 37,
     "metadata": {},
     "output_type": "execute_result"
    }
   ],
   "source": [
    "remove_duplicate([10,1,11,1,29,876,768,10,11,1,92,29,876])"
   ]
  },
  {
   "cell_type": "code",
   "execution_count": 54,
   "id": "1228844f",
   "metadata": {},
   "outputs": [],
   "source": [
    "#Write a Python program to check a list is empty or not?\n",
    "#Input:- []\n",
    "#Output:- List is empty\n",
    "#Input:- [10,20,30]\n",
    "#Output:- List is not empty\n",
    "\n",
    "\n",
    "def checking_lst(lst):\n",
    "    for i in lst:\n",
    "        if i==['']:\n",
    "            print('List is empty')\n",
    "        else:\n",
    "            print('List is not empty')"
   ]
  },
  {
   "cell_type": "code",
   "execution_count": 55,
   "id": "fb465922",
   "metadata": {},
   "outputs": [],
   "source": [
    "def checking_lst(lst):\n",
    "    for i in lst:\n",
    "        if i==[]:\n",
    "            print('List is empty')\n",
    "        else:\n",
    "            print('List is not empty')"
   ]
  },
  {
   "cell_type": "code",
   "execution_count": 63,
   "id": "e7479c69",
   "metadata": {},
   "outputs": [
    {
     "name": "stdout",
     "output_type": "stream",
     "text": [
      "None\n"
     ]
    }
   ],
   "source": [
    "print(checking_lst([]))"
   ]
  },
  {
   "cell_type": "code",
   "execution_count": 57,
   "id": "b99a0346",
   "metadata": {},
   "outputs": [
    {
     "name": "stdout",
     "output_type": "stream",
     "text": [
      "List is not empty\n",
      "List is not empty\n",
      "List is not empty\n",
      "List is not empty\n",
      "List is not empty\n",
      "List is not empty\n",
      "List is not empty\n"
     ]
    }
   ],
   "source": [
    "checking_lst([13,133,33,2,1,3,3])"
   ]
  },
  {
   "cell_type": "code",
   "execution_count": 65,
   "id": "71a59b7f",
   "metadata": {},
   "outputs": [
    {
     "name": "stdout",
     "output_type": "stream",
     "text": [
      "List is not empty\n",
      "List is not empty\n",
      "List is not empty\n"
     ]
    }
   ],
   "source": [
    "#Write a Python program to check a list is empty or not?\n",
    "#Input:- []\n",
    "#Output:- List is empty\n",
    "#Input:- [10,20,30]\n",
    "#Output:- List is not empty\n",
    "\n",
    "\n",
    "def checking_lst(lst):\n",
    "    for i in lst:\n",
    "        if i==['']:\n",
    "            print('List is empty')\n",
    "        else:\n",
    "            print('List is not empty')\n",
    "            \n",
    "# Test with an empty list\n",
    "checking_lst([])\n",
    "\n",
    "# Test with a non-empty list\n",
    "checking_lst([10,20,30])            "
   ]
  },
  {
   "cell_type": "code",
   "execution_count": 1,
   "id": "20b47ef4",
   "metadata": {},
   "outputs": [
    {
     "name": "stdout",
     "output_type": "stream",
     "text": [
      "[10, 10.2, (10+20j), 'Python', [10, 20], (10, 20)]\n"
     ]
    }
   ],
   "source": [
    "\n",
    "#Write a Python program to copy a list using loop.\n",
    "#inp_lst = [10,10.20,10+20j, 'Python', [10,20], (10,20)]\n",
    "#out_lst = [10,10.20,10+20j, 'Python', [10,20], (10,20)]\n",
    "inp_lst = [10,10.20,10+20j, 'Python', [10,20], (10,20)]\n",
    "out_lst=[]\n",
    "for i in inp_lst:\n",
    "    out_lst.append(i)\n",
    "print(out_lst)"
   ]
  },
  {
   "cell_type": "code",
   "execution_count": 10,
   "id": "a5e2d933",
   "metadata": {},
   "outputs": [],
   "source": [
    "def in_lst(lst):\n",
    "    out_lst=[]\n",
    "    for i in lst:\n",
    "        out_lst.append(i)\n",
    "    return (\"out_lst is:\",lst)"
   ]
  },
  {
   "cell_type": "code",
   "execution_count": 11,
   "id": "ea07d212",
   "metadata": {},
   "outputs": [
    {
     "data": {
      "text/plain": [
       "('out_lst is:', [10, 10.2, (10+20j), 'Python', [10, 20], (10, 20)])"
      ]
     },
     "execution_count": 11,
     "metadata": {},
     "output_type": "execute_result"
    }
   ],
   "source": [
    "in_lst([10, 10.2, (10+20j), 'Python', [10, 20], (10, 20)])"
   ]
  },
  {
   "cell_type": "code",
   "execution_count": 36,
   "id": "af7e647e",
   "metadata": {},
   "outputs": [
    {
     "name": "stdout",
     "output_type": "stream",
     "text": [
      "['much', 'wood', 'would', 'woodchuck', 'chuck', 'could']\n"
     ]
    }
   ],
   "source": [
    "#Write a Python program to find the list of words that are longer than or equal to 4 from a given string.\n",
    "#Input:- 'How much wood would a woodchuck chuck if a woodchuck could chuck wood'\n",
    "#Output:- ['much', 'wood', 'would', 'woodchuck', 'chuck', 'could']\n",
    "#Note:- Duplicate should be avoided.\n",
    "\n",
    "lst='How much wood would a woodchuck chuck if a woodchuck could chuck wood'\n",
    "lst_1=lst.split()\n",
    "output=[]\n",
    "for i in lst_1:\n",
    "    if len(i)>=4 and i not in output:\n",
    "        output.append(i)\n",
    "print(output)"
   ]
  },
  {
   "cell_type": "code",
   "execution_count": 42,
   "id": "65989dd1",
   "metadata": {},
   "outputs": [],
   "source": [
    "def input_lst(lst):\n",
    "    list_1=lst.split()\n",
    "    output=[]\n",
    "    for i in lst_1:\n",
    "        if len(i)>=4 and i not in output:\n",
    "            output.append(i)\n",
    "    return(\"the output lst is:\",output)"
   ]
  },
  {
   "cell_type": "code",
   "execution_count": 43,
   "id": "995373cd",
   "metadata": {},
   "outputs": [
    {
     "data": {
      "text/plain": [
       "('the output lst is:',\n",
       " ['much', 'wood', 'would', 'woodchuck', 'chuck', 'could'])"
      ]
     },
     "execution_count": 43,
     "metadata": {},
     "output_type": "execute_result"
    }
   ],
   "source": [
    "input_lst('How much wood would a woodchuck chuck if a woodchuck could chuck wood')"
   ]
  },
  {
   "cell_type": "code",
   "execution_count": null,
   "id": "8e8fc3d5",
   "metadata": {},
   "outputs": [],
   "source": [
    "#Write a Python program which takes two list as input and returns True if they have at least 3 common elements.\n",
    "#inp_lst1 = [10,20,'Python', 10.20, 10+20j, [10,20,30], (10,20,30)]\n",
    "#inp_lst2 = [(10,20,30),1,20+3j,100.2, 10+20j, [10,20,30],'Python']\n",
    "#Output:- True\n"
   ]
  },
  {
   "cell_type": "code",
   "execution_count": 9,
   "id": "b31dd8d6",
   "metadata": {},
   "outputs": [
    {
     "name": "stdout",
     "output_type": "stream",
     "text": [
      "True\n"
     ]
    }
   ],
   "source": [
    "lst_1= [10,20,'Python', 10.20, 10+20j, [10,20,30], (10,20,30)]\n",
    "lst_2= [(10,20,30),1,20+3j,100.2, 10+20j, [10,20,30],'Python']\n",
    "common=[i for i in lst_1 if i in lst_2]\n",
    "if len(common)>=3:\n",
    "    print(True)\n",
    "else:\n",
    "    print(False)\n",
    "    \n",
    "        "
   ]
  },
  {
   "cell_type": "code",
   "execution_count": 6,
   "id": "7bd5eea1",
   "metadata": {},
   "outputs": [],
   "source": [
    "# same using def function:\n",
    "def common_elements(lst_1,lst_2):\n",
    "    common=[i for i in lst_1 if i in lst_2 ]\n",
    "    if len(common)>=3:\n",
    "        return True\n",
    "    else:\n",
    "        return False"
   ]
  },
  {
   "cell_type": "code",
   "execution_count": 7,
   "id": "e0e6757d",
   "metadata": {},
   "outputs": [
    {
     "name": "stdout",
     "output_type": "stream",
     "text": [
      "output is:  True\n"
     ]
    }
   ],
   "source": [
    "lst_1 = [10,20,'Python', 10.20, 10+20j, [10,20,30], (10,20,30)]\n",
    "lst_2 = [(10,20,30),1,20+3j,100.2, 10+20j, [10,20,30],'Python']\n",
    "print(\"output is: \",common_elements(lst_1,lst_2))"
   ]
  },
  {
   "cell_type": "code",
   "execution_count": null,
   "id": "b63b5cd3",
   "metadata": {},
   "outputs": [],
   "source": [
    "\n",
    "#Write a Python program to create a 4X4 2D matrix with below elements using loop and list comprehension both.\n",
    "#Output:- [[0,0,0,0],[0,1,2,3],[0,2,4,6],[0,3,6,9]]"
   ]
  },
  {
   "cell_type": "code",
   "execution_count": 30,
   "id": "8def26dc",
   "metadata": {},
   "outputs": [
    {
     "name": "stdout",
     "output_type": "stream",
     "text": [
      "[[0, 0, 0, 0], [0, 1, 2, 3], [0, 2, 4, 6], [0, 3, 6, 9]]\n"
     ]
    }
   ],
   "source": [
    "matrix=[]\n",
    "for i in range(4):\n",
    "    row=[]\n",
    "    for j in range(4):\n",
    "        row.append(i*j)\n",
    "    matrix.append(row)\n",
    "print(matrix)"
   ]
  },
  {
   "cell_type": "code",
   "execution_count": 40,
   "id": "989a57e5",
   "metadata": {},
   "outputs": [
    {
     "name": "stdout",
     "output_type": "stream",
     "text": [
      "[[0, 0, 0, 0], [0, 1, 2, 3], [0, 2, 4, 6], [0, 3, 6, 9]]\n"
     ]
    }
   ],
   "source": [
    "# using list comprehension\n",
    "matrix=[[i*j for j in range(4)] for i in range(4)]\n",
    "print(matrix)"
   ]
  },
  {
   "cell_type": "code",
   "execution_count": 69,
   "id": "a36d7171",
   "metadata": {
    "scrolled": true
   },
   "outputs": [
    {
     "name": "stdout",
     "output_type": "stream",
     "text": [
      "[[0, 0, 0, 0, 0, 0], [0, 0, 0, 0, 0, 0], [0, 0, 0, 0, 0, 0], [0, 0, 0, 0, 0, 0]]\n",
      "[[0, 0, 0, 0, 0, 0], [1, 1, 1, 1, 1, 1], [2, 2, 2, 2, 2, 2], [3, 3, 3, 3, 3, 3]]\n",
      "[[0, 0, 0, 0, 0, 0], [2, 2, 2, 2, 2, 2], [4, 4, 4, 4, 4, 4], [6, 6, 6, 6, 6, 6]]\n"
     ]
    }
   ],
   "source": [
    "#Write a Python program to create a 3X4X6 3D matrix wiith below elements using loop\n",
    "#Output:- \n",
    "# [\n",
    "#     [[0,0,0,0,0,0],[0,0,0,0,0,0],[0,0,0,0,0,0],[0,0,0,0,0,0]],\n",
    "#     [[0,0,0,0,0,0],[1,1,1,1,1,1],[2,2,2,2,2,2],[3,3,3,3,3,3]],\n",
    "#     [[0,0,0,0,0,0],[2,2,2,2,2,2],[4,4,4,4,4,4],[6,6,6,6,6,6]]\n",
    "# ]\n",
    "\n",
    "\n",
    "\n",
    "\n",
    "matrix=[[[0 for col in range(6)]for col in range(4)]for row in range(3)]\n",
    "for i in range(3):\n",
    "    for j in range(4):\n",
    "        for k in range(6):\n",
    "            matrix[i][j][k]=i*j\n",
    "for row in matrix:\n",
    "    print(row)"
   ]
  },
  {
   "cell_type": "code",
   "execution_count": 70,
   "id": "2576dbf0",
   "metadata": {},
   "outputs": [
    {
     "name": "stdout",
     "output_type": "stream",
     "text": [
      "[[0, 0, 0, 0, 0, 0], [0, 0, 0, 0, 0, 0], [0, 0, 0, 0, 0, 0], [0, 0, 0, 0, 0, 0]]\n",
      "[[0, 0, 0, 0, 0, 0], [1, 1, 1, 1, 1, 1], [2, 2, 2, 2, 2, 2], [3, 3, 3, 3, 3, 3]]\n",
      "[[0, 0, 0, 0, 0, 0], [2, 2, 2, 2, 2, 2], [4, 4, 4, 4, 4, 4], [6, 6, 6, 6, 6, 6]]\n"
     ]
    }
   ],
   "source": [
    "# Initialize the 3D matrix\n",
    "matrix = []\n",
    "\n",
    "# Loop through the dimensions\n",
    "for i in range(3):\n",
    "    matrix.append([])\n",
    "    for j in range(4):\n",
    "        matrix[i].append([])\n",
    "        for k in range(6):\n",
    "            if i == 0:\n",
    "                matrix[i][j].append(0)\n",
    "            elif i == 1:\n",
    "                matrix[i][j].append(j)\n",
    "            else:\n",
    "                matrix[i][j].append(j*2)\n",
    "\n",
    "# Print the 3D matrix\n",
    "for row in matrix:\n",
    "    print(row)"
   ]
  },
  {
   "cell_type": "code",
   "execution_count": 2,
   "id": "d955e727",
   "metadata": {},
   "outputs": [
    {
     "name": "stdout",
     "output_type": "stream",
     "text": [
      "output is: [21, 87, 45, 33, 1]\n"
     ]
    }
   ],
   "source": [
    "\n",
    "#Write a Python program which takes a list of numbers as input and prints a new list after removing even numbers from it.\n",
    "#Input:- [10,21,22,98,87,45,33,1,2,100]\n",
    "#Output:- [21,87,45,33,1]\n",
    "lst=[10,21,22,98,87,45,33,1,2,100]\n",
    "output=[]\n",
    "for i in lst:\n",
    "    if i%2!=0:\n",
    "        output.append(i)\n",
    "print('output is:',output)"
   ]
  },
  {
   "cell_type": "code",
   "execution_count": 18,
   "id": "727d96b2",
   "metadata": {},
   "outputs": [
    {
     "name": "stdout",
     "output_type": "stream",
     "text": [
      "output is:  [100, 45, 10, 33, 21, 1, 2, 98, 22, 87]\n"
     ]
    }
   ],
   "source": [
    "\n",
    "#Write a Python program which takes a list from the user and prints it after reshuffling the elements of the list.\n",
    "#Input:- [10,21,22,98,87,45,33,1,2,100]\n",
    "#Output:- [1,87,21,10,33,2,100,45,98,22] (It may be any randon list but with same elements)\n",
    "import random #import random imports the random module,which contains a variety of functions used for generating random numbers\n",
    "\n",
    "lst= [10,21,22,98,87,45,33,1,2,100]\n",
    "random.shuffle(lst)\n",
    "print(\"output is: \", lst)"
   ]
  }
 ],
 "metadata": {
  "kernelspec": {
   "display_name": "Python 3 (ipykernel)",
   "language": "python",
   "name": "python3"
  },
  "language_info": {
   "codemirror_mode": {
    "name": "ipython",
    "version": 3
   },
   "file_extension": ".py",
   "mimetype": "text/x-python",
   "name": "python",
   "nbconvert_exporter": "python",
   "pygments_lexer": "ipython3",
   "version": "3.11.5"
  }
 },
 "nbformat": 4,
 "nbformat_minor": 5
}
